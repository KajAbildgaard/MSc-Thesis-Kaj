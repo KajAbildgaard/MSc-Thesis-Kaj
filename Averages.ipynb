{
 "cells": [
  {
   "cell_type": "code",
   "execution_count": 8,
   "id": "b1658a7e",
   "metadata": {},
   "outputs": [],
   "source": [
    "from darts.tools.keyword_file_tools import load_single_keyword\n",
    "import numpy as np"
   ]
  },
  {
   "cell_type": "code",
   "execution_count": 9,
   "id": "6164da4f",
   "metadata": {},
   "outputs": [
    {
     "name": "stdout",
     "output_type": "stream",
     "text": [
      "Reading PERM from c:\\Users\\kajab\\Documents\\School\\Master_year_2\\Thesis\\MSc-Thesis-Kaj\\HeterogeneousModel\\largeModel\\area1800_varRcond_0_perm.txt... 234484 values have been read.\n",
      "Reading PERM from c:\\Users\\kajab\\Documents\\School\\Master_year_2\\Thesis\\MSc-Thesis-Kaj\\HeterogeneousModel\\largeModel\\area1800_varRcond_1_perm.txt... 234484 values have been read.\n",
      "Reading PERM from c:\\Users\\kajab\\Documents\\School\\Master_year_2\\Thesis\\MSc-Thesis-Kaj\\HeterogeneousModel\\largeModel\\area1800_varRcond_2_perm.txt... 234484 values have been read.\n",
      "Reading PERM from c:\\Users\\kajab\\Documents\\School\\Master_year_2\\Thesis\\MSc-Thesis-Kaj\\HeterogeneousModel\\largeModel\\area1800_varRcond_3_perm.txt... 234484 values have been read.\n",
      "Reading PERM from c:\\Users\\kajab\\Documents\\School\\Master_year_2\\Thesis\\MSc-Thesis-Kaj\\HeterogeneousModel\\largeModel\\area1800_varRcond_4_perm.txt... 234484 values have been read.\n",
      "Reading PORO from c:\\Users\\kajab\\Documents\\School\\Master_year_2\\Thesis\\MSc-Thesis-Kaj\\HeterogeneousModel\\largeModel\\area1800_varRcond_0_poro.txt... 234484 values have been read.\n",
      "Reading PORO from c:\\Users\\kajab\\Documents\\School\\Master_year_2\\Thesis\\MSc-Thesis-Kaj\\HeterogeneousModel\\largeModel\\area1800_varRcond_1_poro.txt... 234484 values have been read.\n",
      "Reading PORO from c:\\Users\\kajab\\Documents\\School\\Master_year_2\\Thesis\\MSc-Thesis-Kaj\\HeterogeneousModel\\largeModel\\area1800_varRcond_2_poro.txt... 234484 values have been read.\n",
      "Reading PORO from c:\\Users\\kajab\\Documents\\School\\Master_year_2\\Thesis\\MSc-Thesis-Kaj\\HeterogeneousModel\\largeModel\\area1800_varRcond_3_poro.txt... 234484 values have been read.\n",
      "Reading PORO from c:\\Users\\kajab\\Documents\\School\\Master_year_2\\Thesis\\MSc-Thesis-Kaj\\HeterogeneousModel\\largeModel\\area1800_varRcond_4_poro.txt... 234484 values have been read.\n"
     ]
    }
   ],
   "source": [
    "nx, ny, nz = 62, 62, 18 + 25 + 18\n",
    "nb = nx * ny * nz\n",
    "mz = 25         # middle of the reservoir\n",
    "n_conf = (nz - mz) // 2   \n",
    "upper_idx = range(0, n_conf)  \n",
    "middle_idx = range(n_conf, n_conf + mz) \n",
    "lower_idx = range(n_conf + mz, nz) \n",
    "\n",
    "dx = np.hstack([[200]*5, [100]*5, [50]*3, [50]*36, [50]*3, [100]*5, [200]*5]).astype(float)\n",
    "dy = dx.copy()\n",
    "dz = np.hstack([\n",
    "    [30,30,30,30,30,30,30,30,30,20,20,10,10,10,6,6,4,4],\n",
    "    [4]*25,\n",
    "    [4,4,6,6,10,10,10,20,20,30,30,30,30,30,30,30,30,30]\n",
    "]).astype(float)\n",
    "\n",
    "dx = np.broadcast_to(dx[:,None,None], (nx,ny,nz))\n",
    "dy = np.broadcast_to(dy[None,:,None], (nx,ny,nz))\n",
    "dz = np.broadcast_to(dz[None,None,:], (nx,ny,nz))\n",
    "\n",
    "perm0 = load_single_keyword('HeterogeneousModel/largeModel/area1800_varRcond_0_perm.txt', 'PERM')\n",
    "perm1 = load_single_keyword('HeterogeneousModel/largeModel/area1800_varRcond_1_perm.txt', 'PERM')\n",
    "perm2 = load_single_keyword('HeterogeneousModel/largeModel/area1800_varRcond_2_perm.txt', 'PERM')\n",
    "perm3 = load_single_keyword('HeterogeneousModel/largeModel/area1800_varRcond_3_perm.txt', 'PERM')\n",
    "perm4 = load_single_keyword('HeterogeneousModel/largeModel/area1800_varRcond_4_perm.txt', 'PERM')\n",
    "\n",
    "poro0 = load_single_keyword('HeterogeneousModel/largeModel/area1800_varRcond_0_poro.txt', 'PORO')\n",
    "poro1 = load_single_keyword('HeterogeneousModel/largeModel/area1800_varRcond_1_poro.txt', 'PORO')\n",
    "poro2 = load_single_keyword('HeterogeneousModel/largeModel/area1800_varRcond_2_poro.txt', 'PORO')\n",
    "poro3 = load_single_keyword('HeterogeneousModel/largeModel/area1800_varRcond_3_poro.txt', 'PORO')\n",
    "poro4 = load_single_keyword('HeterogeneousModel/largeModel/area1800_varRcond_4_poro.txt', 'PORO')"
   ]
  },
  {
   "cell_type": "code",
   "execution_count": 11,
   "id": "8f9a49b6",
   "metadata": {},
   "outputs": [],
   "source": [
    "def effective_k(perm, layer_idx, layer):\n",
    "    perm = perm[:nb]\n",
    "    perm = perm.reshape((nx, ny, nz), order='F') \n",
    "    sub = perm[:, :, layer_idx]\n",
    "    check = np.unique(sub)\n",
    "    if check.size == 1:\n",
    "        print(f\"[{layer}] uniform k = {check[0]} mD\")\n",
    "        return check[0]\n",
    "    \n",
    "    print(f\"[{layer}] stats → \"\n",
    "      f\"min={sub.min():.2f}, max={sub.max():.2f}, \"\n",
    "      f\"mean={sub.mean():.2f}, median={np.median(sub):.2f}, std={sub.std():.2f}\")\n",
    "    harmonic_layer = []\n",
    "    vol = []\n",
    "    for k in layer_idx:\n",
    "        A = dx[:, :, k] * dy[:, :, k]\n",
    "        perm_ij = perm[:, :, k]\n",
    "        harmonic_layer.append(A.sum() / (A / perm_ij).sum())\n",
    "        vol.append(A.sum() * dz[0, 0, k]) \n",
    "    harmonic_layer = np.array(harmonic_layer)\n",
    "    vol = np.array(vol)\n",
    "    k_eff    = (harmonic_layer * vol).sum() / vol.sum()\n",
    "\n",
    "    print(f\"[{layer}] upscaled k = {k_eff} mD\")\n",
    "    return k_eff\n",
    "\n",
    "def effective_phi(poro, layer_idx, layer):\n",
    "    poro = poro[:nb]\n",
    "    poro = poro.reshape((nx, ny, nz), order='F') \n",
    "    sub = poro[:, :, layer_idx]\n",
    "    check = np.unique(sub)\n",
    "    if check.size == 1:\n",
    "        print(f\"[{layer}] uniform phi = {check[0]}\")\n",
    "        return check[0]\n",
    "    \n",
    "    print(f\"[{layer}] stats → \"\n",
    "      f\"min={sub.min():.2f}, max={sub.max():.2f}, \"\n",
    "      f\"mean={sub.mean():.2f}, median={np.median(sub):.2f}, std={sub.std():.2f}\")\n",
    "    vol = dx[:, :, layer_idx] * dy[:, :, layer_idx] * dz[:, :, layer_idx]\n",
    "    vol = np.array(vol)\n",
    "    phi = poro[:, :, layer_idx]\n",
    "    phi = np.array(phi)\n",
    "    phi_eff = (phi * vol).sum() / vol.sum()\n",
    "    print(f\"[{layer}] upscaled phi = {phi_eff:.2f}\")\n",
    "    return phi_eff"
   ]
  },
  {
   "cell_type": "code",
   "execution_count": 12,
   "id": "9b9b7435",
   "metadata": {},
   "outputs": [
    {
     "name": "stdout",
     "output_type": "stream",
     "text": [
      "[Model 0, Upper confining] uniform k = 0.001 mD\n",
      "[Model 0, Middle layers] stats → min=1.00, max=2002.78, mean=220.38, median=2.04, std=450.33\n",
      "[Model 0, Middle layers] upscaled k = 2.425577331181285 mD\n",
      "[Model 0, Lower confining] uniform k = 0.001 mD\n",
      "[Model 1, Upper confining] uniform k = 0.001 mD\n",
      "[Model 1, Middle layers] stats → min=1.00, max=2002.78, mean=213.63, median=1.82, std=446.92\n",
      "[Model 1, Middle layers] upscaled k = 2.0549195950204266 mD\n",
      "[Model 1, Lower confining] uniform k = 0.001 mD\n",
      "[Model 2, Upper confining] uniform k = 0.001 mD\n",
      "[Model 2, Middle layers] stats → min=1.00, max=2002.78, mean=228.89, median=2.03, std=452.72\n",
      "[Model 2, Middle layers] upscaled k = 2.311067600873036 mD\n",
      "[Model 2, Lower confining] uniform k = 0.001 mD\n",
      "[Model 3, Upper confining] uniform k = 0.001 mD\n",
      "[Model 3, Middle layers] stats → min=1.00, max=2002.78, mean=198.50, median=3.13, std=415.85\n",
      "[Model 3, Middle layers] upscaled k = 2.174924472311165 mD\n",
      "[Model 3, Lower confining] uniform k = 0.001 mD\n",
      "[Model 4, Upper confining] uniform k = 0.001 mD\n",
      "[Model 4, Middle layers] stats → min=1.00, max=2002.78, mean=206.52, median=2.96, std=428.90\n",
      "[Model 4, Middle layers] upscaled k = 2.495311794707074 mD\n",
      "[Model 4, Lower confining] uniform k = 0.001 mD\n"
     ]
    }
   ],
   "source": [
    "k_eff_upper = effective_k(perm0, upper_idx, \"Model 0, Upper confining\")\n",
    "k_eff_middle = effective_k(perm0, middle_idx, \"Model 0, Middle layers\")\n",
    "k_eff_lower = effective_k(perm0, lower_idx, \"Model 0, Lower confining\")\n",
    "k_eff_upper1 = effective_k(perm1, upper_idx, \"Model 1, Upper confining\")\n",
    "k_eff_middle1 = effective_k(perm1, middle_idx, \"Model 1, Middle layers\")\n",
    "k_eff_lower1 = effective_k(perm1, lower_idx, \"Model 1, Lower confining\")\n",
    "k_eff_upper2 = effective_k(perm2, upper_idx, \"Model 2, Upper confining\")\n",
    "k_eff_middle2 = effective_k(perm2, middle_idx, \"Model 2, Middle layers\")\n",
    "k_eff_lower2 = effective_k(perm2, lower_idx, \"Model 2, Lower confining\")\n",
    "k_eff_upper3 = effective_k(perm3, upper_idx, \"Model 3, Upper confining\")\n",
    "k_eff_middle3 = effective_k(perm3, middle_idx, \"Model 3, Middle layers\")\n",
    "k_eff_lower3 = effective_k(perm3, lower_idx, \"Model 3, Lower confining\")\n",
    "k_eff_upper4 = effective_k(perm4, upper_idx, \"Model 4, Upper confining\")\n",
    "k_eff_middle4 = effective_k(perm4, middle_idx, \"Model 4, Middle layers\")\n",
    "k_eff_lower4 = effective_k(perm4, lower_idx, \"Model 4, Lower confining\")"
   ]
  },
  {
   "cell_type": "code",
   "execution_count": 13,
   "id": "b74a4906",
   "metadata": {},
   "outputs": [
    {
     "name": "stdout",
     "output_type": "stream",
     "text": [
      "[Model 0, Upper confining] uniform phi = 0.001\n",
      "[Model 0, Middle layers] stats → min=0.01, max=0.25, mean=0.10, median=0.09, std=0.06\n",
      "[Model 0, Middle layers] upscaled phi = 0.11\n",
      "[Model 0, Lower confining] uniform phi = 0.001\n",
      "[Model 1, Upper confining] uniform phi = 0.001\n",
      "[Model 1, Middle layers] stats → min=0.01, max=0.25, mean=0.10, median=0.09, std=0.06\n",
      "[Model 1, Middle layers] upscaled phi = 0.10\n",
      "[Model 1, Lower confining] uniform phi = 0.001\n",
      "[Model 2, Upper confining] uniform phi = 0.001\n",
      "[Model 2, Middle layers] stats → min=0.01, max=0.25, mean=0.10, median=0.09, std=0.07\n",
      "[Model 2, Middle layers] upscaled phi = 0.10\n",
      "[Model 2, Lower confining] uniform phi = 0.001\n",
      "[Model 3, Upper confining] uniform phi = 0.001\n",
      "[Model 3, Middle layers] stats → min=0.01, max=0.25, mean=0.10, median=0.09, std=0.06\n",
      "[Model 3, Middle layers] upscaled phi = 0.10\n",
      "[Model 3, Lower confining] uniform phi = 0.001\n",
      "[Model 4, Upper confining] uniform phi = 0.001\n",
      "[Model 4, Middle layers] stats → min=0.01, max=0.25, mean=0.10, median=0.09, std=0.06\n",
      "[Model 4, Middle layers] upscaled phi = 0.11\n",
      "[Model 4, Lower confining] uniform phi = 0.001\n"
     ]
    }
   ],
   "source": [
    "phi_eff_upper = effective_phi(poro0, upper_idx, \"Model 0, Upper confining\")\n",
    "phi_eff_middle = effective_phi(poro0, middle_idx, \"Model 0, Middle layers\")\n",
    "phi_eff_lower = effective_phi(poro0, lower_idx, \"Model 0, Lower confining\")\n",
    "phi_eff_upper1 = effective_phi(poro1, upper_idx, \"Model 1, Upper confining\")\n",
    "phi_eff_middle1 = effective_phi(poro1, middle_idx, \"Model 1, Middle layers\")\n",
    "phi_eff_lower1 = effective_phi(poro1, lower_idx, \"Model 1, Lower confining\")\n",
    "phi_eff_upper2 = effective_phi(poro2, upper_idx, \"Model 2, Upper confining\")\n",
    "phi_eff_middle2 = effective_phi(poro2, middle_idx, \"Model 2, Middle layers\")\n",
    "phi_eff_lower2 = effective_phi(poro2, lower_idx, \"Model 2, Lower confining\")\n",
    "phi_eff_upper3 = effective_phi(poro3, upper_idx, \"Model 3, Upper confining\")\n",
    "phi_eff_middle3 = effective_phi(poro3, middle_idx, \"Model 3, Middle layers\")\n",
    "phi_eff_lower3 = effective_phi(poro3, lower_idx, \"Model 3, Lower confining\")\n",
    "phi_eff_upper4 = effective_phi(poro4, upper_idx, \"Model 4, Upper confining\")\n",
    "phi_eff_middle4 = effective_phi(poro4, middle_idx, \"Model 4, Middle layers\")\n",
    "phi_eff_lower4 = effective_phi(poro4, lower_idx, \"Model 4, Lower confining\")"
   ]
  },
  {
   "cell_type": "code",
   "execution_count": null,
   "id": "98ed9697",
   "metadata": {},
   "outputs": [],
   "source": []
  }
 ],
 "metadata": {
  "kernelspec": {
   "display_name": "Python 3",
   "language": "python",
   "name": "python3"
  },
  "language_info": {
   "codemirror_mode": {
    "name": "ipython",
    "version": 3
   },
   "file_extension": ".py",
   "mimetype": "text/x-python",
   "name": "python",
   "nbconvert_exporter": "python",
   "pygments_lexer": "ipython3",
   "version": "3.9.21"
  }
 },
 "nbformat": 4,
 "nbformat_minor": 5
}
